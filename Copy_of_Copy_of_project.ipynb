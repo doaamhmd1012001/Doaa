{
  "nbformat": 4,
  "nbformat_minor": 0,
  "metadata": {
    "colab": {
      "name": "Copy of Copy of project.ipynb",
      "provenance": [],
      "collapsed_sections": [],
      "include_colab_link": true
    },
    "kernelspec": {
      "name": "python3",
      "display_name": "Python 3"
    }
  },
  "cells": [
    {
      "cell_type": "markdown",
      "metadata": {
        "id": "view-in-github",
        "colab_type": "text"
      },
      "source": [
        "<a href=\"https://colab.research.google.com/github/doaamhmd1012001/Doaa/blob/master/Copy_of_Copy_of_project.ipynb\" target=\"_parent\"><img src=\"https://colab.research.google.com/assets/colab-badge.svg\" alt=\"Open In Colab\"/></a>"
      ]
    },
    {
      "cell_type": "markdown",
      "metadata": {
        "id": "ayr9EWVBQ94r"
      },
      "source": [
        "# (Dataset  Title here)\r\n",
        "## by (your name here)\r\n",
        "\r\n",
        "> Briefly introduce dataset here."
      ]
    },
    {
      "cell_type": "markdown",
      "metadata": {
        "id": "BbMIIonZl9Bl"
      },
      "source": [
        ""
      ]
    },
    {
      "cell_type": "markdown",
      "metadata": {
        "id": "y-jVFbL-i-z2"
      },
      "source": [
        "\r\n",
        "\r\n",
        "```\r\n",
        "# import libraries\r\n",
        "```\r\n",
        "\r\n"
      ]
    },
    {
      "cell_type": "code",
      "metadata": {
        "id": "umdBfuyYR3gE"
      },
      "source": [
        "import pandas\r\n",
        "import pandas as pd\r\n",
        "import numpy as np\r\n",
        "import os\r\n",
        "import time\r\n",
        "import sys\r\n",
        "from pydrive.drive import GoogleDrive\r\n",
        "from google.colab import auth\r\n",
        "from oauth2client.client import GoogleCredentials\r\n",
        "from datetime import datetime"
      ],
      "execution_count": 56,
      "outputs": []
    },
    {
      "cell_type": "markdown",
      "metadata": {
        "id": "yQb23S22jL_w"
      },
      "source": [
        "```\r\n",
        "#import your dataset \r\n",
        "```"
      ]
    },
    {
      "cell_type": "markdown",
      "metadata": {
        "id": "NM8m7bduNw-s"
      },
      "source": [
        ""
      ]
    },
    {
      "cell_type": "code",
      "metadata": {
        "colab": {
          "base_uri": "https://localhost:8080/"
        },
        "id": "byKqmxXQTV-w",
        "outputId": "9cba107e-0968-49b7-daf5-b876deb7a0e9"
      },
      "source": [
        "from google.colab import drive\n",
        "drive.mount('/content/books.csv')"
      ],
      "execution_count": 38,
      "outputs": [
        {
          "output_type": "stream",
          "text": [
            "Drive already mounted at /content/books.csv; to attempt to forcibly remount, call drive.mount(\"/content/books.csv\", force_remount=True).\n"
          ],
          "name": "stdout"
        }
      ]
    },
    {
      "cell_type": "code",
      "metadata": {
        "id": "0jCqa4bwTq-q"
      },
      "source": [
        "import os\r\n",
        "for dirname, _, filenames in os.walk('/content/sample_data/books.csv'):\r\n",
        "    for filename in filenames:\r\n",
        "        print(os.path.join(dirname, filename))"
      ],
      "execution_count": 64,
      "outputs": []
    },
    {
      "cell_type": "code",
      "metadata": {
        "colab": {
          "base_uri": "https://localhost:8080/",
          "height": 1000
        },
        "id": "i6mfPk3vefvt",
        "outputId": "e72364e8-b871-43dd-da37-49d0663cca26"
      },
      "source": [
        "books = pd.read_csv('/content/sample_data/books.csv',error_bad_lines=False)\r\n",
        "books[:]"
      ],
      "execution_count": 68,
      "outputs": [
        {
          "output_type": "stream",
          "text": [
            "b'Skipping line 3350: expected 12 fields, saw 13\\nSkipping line 4704: expected 12 fields, saw 13\\nSkipping line 5879: expected 12 fields, saw 13\\nSkipping line 8981: expected 12 fields, saw 13\\n'\n"
          ],
          "name": "stderr"
        },
        {
          "output_type": "execute_result",
          "data": {
            "text/html": [
              "<div>\n",
              "<style scoped>\n",
              "    .dataframe tbody tr th:only-of-type {\n",
              "        vertical-align: middle;\n",
              "    }\n",
              "\n",
              "    .dataframe tbody tr th {\n",
              "        vertical-align: top;\n",
              "    }\n",
              "\n",
              "    .dataframe thead th {\n",
              "        text-align: right;\n",
              "    }\n",
              "</style>\n",
              "<table border=\"1\" class=\"dataframe\">\n",
              "  <thead>\n",
              "    <tr style=\"text-align: right;\">\n",
              "      <th></th>\n",
              "      <th>bookID</th>\n",
              "      <th>title</th>\n",
              "      <th>authors</th>\n",
              "      <th>average_rating</th>\n",
              "      <th>isbn</th>\n",
              "      <th>isbn13</th>\n",
              "      <th>language_code</th>\n",
              "      <th>num_pages</th>\n",
              "      <th>ratings_count</th>\n",
              "      <th>text_reviews_count</th>\n",
              "      <th>publication_date</th>\n",
              "      <th>publisher</th>\n",
              "    </tr>\n",
              "  </thead>\n",
              "  <tbody>\n",
              "    <tr>\n",
              "      <th>0</th>\n",
              "      <td>1</td>\n",
              "      <td>Harry Potter and the Half-Blood Prince (Harry ...</td>\n",
              "      <td>J.K. Rowling/Mary GrandPré</td>\n",
              "      <td>4.57</td>\n",
              "      <td>0439785960</td>\n",
              "      <td>9780439785969</td>\n",
              "      <td>eng</td>\n",
              "      <td>652</td>\n",
              "      <td>2095690</td>\n",
              "      <td>27591</td>\n",
              "      <td>9/16/2006</td>\n",
              "      <td>Scholastic Inc.</td>\n",
              "    </tr>\n",
              "    <tr>\n",
              "      <th>1</th>\n",
              "      <td>2</td>\n",
              "      <td>Harry Potter and the Order of the Phoenix (Har...</td>\n",
              "      <td>J.K. Rowling/Mary GrandPré</td>\n",
              "      <td>4.49</td>\n",
              "      <td>0439358078</td>\n",
              "      <td>9780439358071</td>\n",
              "      <td>eng</td>\n",
              "      <td>870</td>\n",
              "      <td>2153167</td>\n",
              "      <td>29221</td>\n",
              "      <td>9/1/2004</td>\n",
              "      <td>Scholastic Inc.</td>\n",
              "    </tr>\n",
              "    <tr>\n",
              "      <th>2</th>\n",
              "      <td>4</td>\n",
              "      <td>Harry Potter and the Chamber of Secrets (Harry...</td>\n",
              "      <td>J.K. Rowling</td>\n",
              "      <td>4.42</td>\n",
              "      <td>0439554896</td>\n",
              "      <td>9780439554893</td>\n",
              "      <td>eng</td>\n",
              "      <td>352</td>\n",
              "      <td>6333</td>\n",
              "      <td>244</td>\n",
              "      <td>11/1/2003</td>\n",
              "      <td>Scholastic</td>\n",
              "    </tr>\n",
              "    <tr>\n",
              "      <th>3</th>\n",
              "      <td>5</td>\n",
              "      <td>Harry Potter and the Prisoner of Azkaban (Harr...</td>\n",
              "      <td>J.K. Rowling/Mary GrandPré</td>\n",
              "      <td>4.56</td>\n",
              "      <td>043965548X</td>\n",
              "      <td>9780439655484</td>\n",
              "      <td>eng</td>\n",
              "      <td>435</td>\n",
              "      <td>2339585</td>\n",
              "      <td>36325</td>\n",
              "      <td>5/1/2004</td>\n",
              "      <td>Scholastic Inc.</td>\n",
              "    </tr>\n",
              "    <tr>\n",
              "      <th>4</th>\n",
              "      <td>8</td>\n",
              "      <td>Harry Potter Boxed Set  Books 1-5 (Harry Potte...</td>\n",
              "      <td>J.K. Rowling/Mary GrandPré</td>\n",
              "      <td>4.78</td>\n",
              "      <td>0439682584</td>\n",
              "      <td>9780439682589</td>\n",
              "      <td>eng</td>\n",
              "      <td>2690</td>\n",
              "      <td>41428</td>\n",
              "      <td>164</td>\n",
              "      <td>9/13/2004</td>\n",
              "      <td>Scholastic</td>\n",
              "    </tr>\n",
              "    <tr>\n",
              "      <th>...</th>\n",
              "      <td>...</td>\n",
              "      <td>...</td>\n",
              "      <td>...</td>\n",
              "      <td>...</td>\n",
              "      <td>...</td>\n",
              "      <td>...</td>\n",
              "      <td>...</td>\n",
              "      <td>...</td>\n",
              "      <td>...</td>\n",
              "      <td>...</td>\n",
              "      <td>...</td>\n",
              "      <td>...</td>\n",
              "    </tr>\n",
              "    <tr>\n",
              "      <th>11118</th>\n",
              "      <td>45631</td>\n",
              "      <td>Expelled from Eden: A William T. Vollmann Reader</td>\n",
              "      <td>William T. Vollmann/Larry McCaffery/Michael He...</td>\n",
              "      <td>4.06</td>\n",
              "      <td>1560254416</td>\n",
              "      <td>9781560254416</td>\n",
              "      <td>eng</td>\n",
              "      <td>512</td>\n",
              "      <td>156</td>\n",
              "      <td>20</td>\n",
              "      <td>12/21/2004</td>\n",
              "      <td>Da Capo Press</td>\n",
              "    </tr>\n",
              "    <tr>\n",
              "      <th>11119</th>\n",
              "      <td>45633</td>\n",
              "      <td>You Bright and Risen Angels</td>\n",
              "      <td>William T. Vollmann</td>\n",
              "      <td>4.08</td>\n",
              "      <td>0140110879</td>\n",
              "      <td>9780140110876</td>\n",
              "      <td>eng</td>\n",
              "      <td>635</td>\n",
              "      <td>783</td>\n",
              "      <td>56</td>\n",
              "      <td>12/1/1988</td>\n",
              "      <td>Penguin Books</td>\n",
              "    </tr>\n",
              "    <tr>\n",
              "      <th>11120</th>\n",
              "      <td>45634</td>\n",
              "      <td>The Ice-Shirt (Seven Dreams #1)</td>\n",
              "      <td>William T. Vollmann</td>\n",
              "      <td>3.96</td>\n",
              "      <td>0140131965</td>\n",
              "      <td>9780140131963</td>\n",
              "      <td>eng</td>\n",
              "      <td>415</td>\n",
              "      <td>820</td>\n",
              "      <td>95</td>\n",
              "      <td>8/1/1993</td>\n",
              "      <td>Penguin Books</td>\n",
              "    </tr>\n",
              "    <tr>\n",
              "      <th>11121</th>\n",
              "      <td>45639</td>\n",
              "      <td>Poor People</td>\n",
              "      <td>William T. Vollmann</td>\n",
              "      <td>3.72</td>\n",
              "      <td>0060878827</td>\n",
              "      <td>9780060878825</td>\n",
              "      <td>eng</td>\n",
              "      <td>434</td>\n",
              "      <td>769</td>\n",
              "      <td>139</td>\n",
              "      <td>2/27/2007</td>\n",
              "      <td>Ecco</td>\n",
              "    </tr>\n",
              "    <tr>\n",
              "      <th>11122</th>\n",
              "      <td>45641</td>\n",
              "      <td>Las aventuras de Tom Sawyer</td>\n",
              "      <td>Mark Twain</td>\n",
              "      <td>3.91</td>\n",
              "      <td>8497646983</td>\n",
              "      <td>9788497646987</td>\n",
              "      <td>spa</td>\n",
              "      <td>272</td>\n",
              "      <td>113</td>\n",
              "      <td>12</td>\n",
              "      <td>5/28/2006</td>\n",
              "      <td>Edimat Libros</td>\n",
              "    </tr>\n",
              "  </tbody>\n",
              "</table>\n",
              "<p>11123 rows × 12 columns</p>\n",
              "</div>"
            ],
            "text/plain": [
              "       bookID  ...        publisher\n",
              "0           1  ...  Scholastic Inc.\n",
              "1           2  ...  Scholastic Inc.\n",
              "2           4  ...       Scholastic\n",
              "3           5  ...  Scholastic Inc.\n",
              "4           8  ...       Scholastic\n",
              "...       ...  ...              ...\n",
              "11118   45631  ...    Da Capo Press\n",
              "11119   45633  ...    Penguin Books\n",
              "11120   45634  ...    Penguin Books\n",
              "11121   45639  ...             Ecco\n",
              "11122   45641  ...    Edimat Libros\n",
              "\n",
              "[11123 rows x 12 columns]"
            ]
          },
          "metadata": {
            "tags": []
          },
          "execution_count": 68
        }
      ]
    },
    {
      "cell_type": "markdown",
      "metadata": {
        "id": "AWYVkdfbU8KN"
      },
      "source": [
        ""
      ]
    },
    {
      "cell_type": "code",
      "metadata": {
        "colab": {
          "base_uri": "https://localhost:8080/",
          "height": 734
        },
        "id": "mzTm-o8hg5e5",
        "outputId": "af6b0ffd-535d-4f04-8b33-e974a7606a71"
      },
      "source": [
        "books = books.drop(columns=['isbn', 'isbn13','bookID'])\r\n",
        "books.head()"
      ],
      "execution_count": 69,
      "outputs": [
        {
          "output_type": "execute_result",
          "data": {
            "text/html": [
              "<div>\n",
              "<style scoped>\n",
              "    .dataframe tbody tr th:only-of-type {\n",
              "        vertical-align: middle;\n",
              "    }\n",
              "\n",
              "    .dataframe tbody tr th {\n",
              "        vertical-align: top;\n",
              "    }\n",
              "\n",
              "    .dataframe thead th {\n",
              "        text-align: right;\n",
              "    }\n",
              "</style>\n",
              "<table border=\"1\" class=\"dataframe\">\n",
              "  <thead>\n",
              "    <tr style=\"text-align: right;\">\n",
              "      <th></th>\n",
              "      <th>title</th>\n",
              "      <th>authors</th>\n",
              "      <th>average_rating</th>\n",
              "      <th>language_code</th>\n",
              "      <th>num_pages</th>\n",
              "      <th>ratings_count</th>\n",
              "      <th>text_reviews_count</th>\n",
              "      <th>publication_date</th>\n",
              "      <th>publisher</th>\n",
              "    </tr>\n",
              "  </thead>\n",
              "  <tbody>\n",
              "    <tr>\n",
              "      <th>0</th>\n",
              "      <td>Harry Potter and the Half-Blood Prince (Harry ...</td>\n",
              "      <td>J.K. Rowling/Mary GrandPré</td>\n",
              "      <td>4.57</td>\n",
              "      <td>eng</td>\n",
              "      <td>652</td>\n",
              "      <td>2095690</td>\n",
              "      <td>27591</td>\n",
              "      <td>9/16/2006</td>\n",
              "      <td>Scholastic Inc.</td>\n",
              "    </tr>\n",
              "    <tr>\n",
              "      <th>1</th>\n",
              "      <td>Harry Potter and the Order of the Phoenix (Har...</td>\n",
              "      <td>J.K. Rowling/Mary GrandPré</td>\n",
              "      <td>4.49</td>\n",
              "      <td>eng</td>\n",
              "      <td>870</td>\n",
              "      <td>2153167</td>\n",
              "      <td>29221</td>\n",
              "      <td>9/1/2004</td>\n",
              "      <td>Scholastic Inc.</td>\n",
              "    </tr>\n",
              "    <tr>\n",
              "      <th>2</th>\n",
              "      <td>Harry Potter and the Chamber of Secrets (Harry...</td>\n",
              "      <td>J.K. Rowling</td>\n",
              "      <td>4.42</td>\n",
              "      <td>eng</td>\n",
              "      <td>352</td>\n",
              "      <td>6333</td>\n",
              "      <td>244</td>\n",
              "      <td>11/1/2003</td>\n",
              "      <td>Scholastic</td>\n",
              "    </tr>\n",
              "    <tr>\n",
              "      <th>3</th>\n",
              "      <td>Harry Potter and the Prisoner of Azkaban (Harr...</td>\n",
              "      <td>J.K. Rowling/Mary GrandPré</td>\n",
              "      <td>4.56</td>\n",
              "      <td>eng</td>\n",
              "      <td>435</td>\n",
              "      <td>2339585</td>\n",
              "      <td>36325</td>\n",
              "      <td>5/1/2004</td>\n",
              "      <td>Scholastic Inc.</td>\n",
              "    </tr>\n",
              "    <tr>\n",
              "      <th>4</th>\n",
              "      <td>Harry Potter Boxed Set  Books 1-5 (Harry Potte...</td>\n",
              "      <td>J.K. Rowling/Mary GrandPré</td>\n",
              "      <td>4.78</td>\n",
              "      <td>eng</td>\n",
              "      <td>2690</td>\n",
              "      <td>41428</td>\n",
              "      <td>164</td>\n",
              "      <td>9/13/2004</td>\n",
              "      <td>Scholastic</td>\n",
              "    </tr>\n",
              "  </tbody>\n",
              "</table>\n",
              "</div>"
            ],
            "text/plain": [
              "                                               title  ...        publisher\n",
              "0  Harry Potter and the Half-Blood Prince (Harry ...  ...  Scholastic Inc.\n",
              "1  Harry Potter and the Order of the Phoenix (Har...  ...  Scholastic Inc.\n",
              "2  Harry Potter and the Chamber of Secrets (Harry...  ...       Scholastic\n",
              "3  Harry Potter and the Prisoner of Azkaban (Harr...  ...  Scholastic Inc.\n",
              "4  Harry Potter Boxed Set  Books 1-5 (Harry Potte...  ...       Scholastic\n",
              "\n",
              "[5 rows x 9 columns]"
            ]
          },
          "metadata": {
            "tags": []
          },
          "execution_count": 69
        }
      ]
    },
    {
      "cell_type": "code",
      "metadata": {
        "colab": {
          "base_uri": "https://localhost:8080/"
        },
        "id": "LUuEei8XhAJN",
        "outputId": "95196328-3787-4624-9b54-9fb29139c8ef"
      },
      "source": [
        "books.columns"
      ],
      "execution_count": 70,
      "outputs": [
        {
          "output_type": "execute_result",
          "data": {
            "text/plain": [
              "Index(['title', 'authors', 'average_rating', 'language_code', '  num_pages',\n",
              "       'ratings_count', 'text_reviews_count', 'publication_date', 'publisher'],\n",
              "      dtype='object')"
            ]
          },
          "metadata": {
            "tags": []
          },
          "execution_count": 70
        }
      ]
    },
    {
      "cell_type": "code",
      "metadata": {
        "id": "y095mDSYhVV0"
      },
      "source": [
        "books.columns = ['Title', 'Authors', 'Average_Rating', 'Language_Code', 'Num_Pages','Ratings_Count', 'Text_Reviews_Count', 'Publication_Date', 'Publisher']"
      ],
      "execution_count": 73,
      "outputs": []
    },
    {
      "cell_type": "code",
      "metadata": {
        "colab": {
          "base_uri": "https://localhost:8080/",
          "height": 297
        },
        "id": "E5fBeJl0hbuY",
        "outputId": "da9df8a6-adae-4835-c134-ef3619b04459"
      },
      "source": [
        "books.describe()"
      ],
      "execution_count": 74,
      "outputs": [
        {
          "output_type": "execute_result",
          "data": {
            "text/html": [
              "<div>\n",
              "<style scoped>\n",
              "    .dataframe tbody tr th:only-of-type {\n",
              "        vertical-align: middle;\n",
              "    }\n",
              "\n",
              "    .dataframe tbody tr th {\n",
              "        vertical-align: top;\n",
              "    }\n",
              "\n",
              "    .dataframe thead th {\n",
              "        text-align: right;\n",
              "    }\n",
              "</style>\n",
              "<table border=\"1\" class=\"dataframe\">\n",
              "  <thead>\n",
              "    <tr style=\"text-align: right;\">\n",
              "      <th></th>\n",
              "      <th>Average_Rating</th>\n",
              "      <th>Num_Pages</th>\n",
              "      <th>Ratings_Count</th>\n",
              "      <th>Text_Reviews_Count</th>\n",
              "    </tr>\n",
              "  </thead>\n",
              "  <tbody>\n",
              "    <tr>\n",
              "      <th>count</th>\n",
              "      <td>11123.000000</td>\n",
              "      <td>11123.000000</td>\n",
              "      <td>1.112300e+04</td>\n",
              "      <td>11123.000000</td>\n",
              "    </tr>\n",
              "    <tr>\n",
              "      <th>mean</th>\n",
              "      <td>3.934075</td>\n",
              "      <td>336.405556</td>\n",
              "      <td>1.794285e+04</td>\n",
              "      <td>542.048099</td>\n",
              "    </tr>\n",
              "    <tr>\n",
              "      <th>std</th>\n",
              "      <td>0.350485</td>\n",
              "      <td>241.152626</td>\n",
              "      <td>1.124992e+05</td>\n",
              "      <td>2576.619589</td>\n",
              "    </tr>\n",
              "    <tr>\n",
              "      <th>min</th>\n",
              "      <td>0.000000</td>\n",
              "      <td>0.000000</td>\n",
              "      <td>0.000000e+00</td>\n",
              "      <td>0.000000</td>\n",
              "    </tr>\n",
              "    <tr>\n",
              "      <th>25%</th>\n",
              "      <td>3.770000</td>\n",
              "      <td>192.000000</td>\n",
              "      <td>1.040000e+02</td>\n",
              "      <td>9.000000</td>\n",
              "    </tr>\n",
              "    <tr>\n",
              "      <th>50%</th>\n",
              "      <td>3.960000</td>\n",
              "      <td>299.000000</td>\n",
              "      <td>7.450000e+02</td>\n",
              "      <td>47.000000</td>\n",
              "    </tr>\n",
              "    <tr>\n",
              "      <th>75%</th>\n",
              "      <td>4.140000</td>\n",
              "      <td>416.000000</td>\n",
              "      <td>5.000500e+03</td>\n",
              "      <td>238.000000</td>\n",
              "    </tr>\n",
              "    <tr>\n",
              "      <th>max</th>\n",
              "      <td>5.000000</td>\n",
              "      <td>6576.000000</td>\n",
              "      <td>4.597666e+06</td>\n",
              "      <td>94265.000000</td>\n",
              "    </tr>\n",
              "  </tbody>\n",
              "</table>\n",
              "</div>"
            ],
            "text/plain": [
              "       Average_Rating     Num_Pages  Ratings_Count  Text_Reviews_Count\n",
              "count    11123.000000  11123.000000   1.112300e+04        11123.000000\n",
              "mean         3.934075    336.405556   1.794285e+04          542.048099\n",
              "std          0.350485    241.152626   1.124992e+05         2576.619589\n",
              "min          0.000000      0.000000   0.000000e+00            0.000000\n",
              "25%          3.770000    192.000000   1.040000e+02            9.000000\n",
              "50%          3.960000    299.000000   7.450000e+02           47.000000\n",
              "75%          4.140000    416.000000   5.000500e+03          238.000000\n",
              "max          5.000000   6576.000000   4.597666e+06        94265.000000"
            ]
          },
          "metadata": {
            "tags": []
          },
          "execution_count": 74
        }
      ]
    },
    {
      "cell_type": "code",
      "metadata": {
        "colab": {
          "base_uri": "https://localhost:8080/",
          "height": 847
        },
        "id": "5Y1S0FiWhh3f",
        "outputId": "8c2ec5f2-db73-40be-f516-6be028e247fd"
      },
      "source": [
        "top_rated_books = books.sort_values(by=['Average_Rating',], ascending=False)\r\n",
        "top_rated_books"
      ],
      "execution_count": 75,
      "outputs": [
        {
          "output_type": "execute_result",
          "data": {
            "text/html": [
              "<div>\n",
              "<style scoped>\n",
              "    .dataframe tbody tr th:only-of-type {\n",
              "        vertical-align: middle;\n",
              "    }\n",
              "\n",
              "    .dataframe tbody tr th {\n",
              "        vertical-align: top;\n",
              "    }\n",
              "\n",
              "    .dataframe thead th {\n",
              "        text-align: right;\n",
              "    }\n",
              "</style>\n",
              "<table border=\"1\" class=\"dataframe\">\n",
              "  <thead>\n",
              "    <tr style=\"text-align: right;\">\n",
              "      <th></th>\n",
              "      <th>Title</th>\n",
              "      <th>Authors</th>\n",
              "      <th>Average_Rating</th>\n",
              "      <th>Language_Code</th>\n",
              "      <th>Num_Pages</th>\n",
              "      <th>Ratings_Count</th>\n",
              "      <th>Text_Reviews_Count</th>\n",
              "      <th>Publication_Date</th>\n",
              "      <th>Publisher</th>\n",
              "    </tr>\n",
              "  </thead>\n",
              "  <tbody>\n",
              "    <tr>\n",
              "      <th>624</th>\n",
              "      <td>Comoediae 1: Acharenses/Equites/Nubes/Vespae/P...</td>\n",
              "      <td>Aristophanes/F.W. Hall/W.M. Geldart</td>\n",
              "      <td>5.0</td>\n",
              "      <td>grc</td>\n",
              "      <td>364</td>\n",
              "      <td>0</td>\n",
              "      <td>0</td>\n",
              "      <td>2/22/1922</td>\n",
              "      <td>Oxford University Press  USA</td>\n",
              "    </tr>\n",
              "    <tr>\n",
              "      <th>9893</th>\n",
              "      <td>His Princess Devotional: A Royal Encounter Wit...</td>\n",
              "      <td>Sheri Rose Shepherd</td>\n",
              "      <td>5.0</td>\n",
              "      <td>eng</td>\n",
              "      <td>240</td>\n",
              "      <td>2</td>\n",
              "      <td>0</td>\n",
              "      <td>10/16/2007</td>\n",
              "      <td>Multnomah</td>\n",
              "    </tr>\n",
              "    <tr>\n",
              "      <th>4788</th>\n",
              "      <td>The Diamond Color Meditation: Color Pathway to...</td>\n",
              "      <td>John  Diamond</td>\n",
              "      <td>5.0</td>\n",
              "      <td>eng</td>\n",
              "      <td>74</td>\n",
              "      <td>5</td>\n",
              "      <td>3</td>\n",
              "      <td>2/1/2006</td>\n",
              "      <td>Square One Publishers</td>\n",
              "    </tr>\n",
              "    <tr>\n",
              "      <th>9324</th>\n",
              "      <td>Tyrannosaurus Wrecks (Stanley  #1)</td>\n",
              "      <td>Laura Driscoll/Alisa Klayman-Grodsky/Eric     ...</td>\n",
              "      <td>5.0</td>\n",
              "      <td>eng</td>\n",
              "      <td>24</td>\n",
              "      <td>2</td>\n",
              "      <td>1</td>\n",
              "      <td>2/1/2003</td>\n",
              "      <td>Disney Press</td>\n",
              "    </tr>\n",
              "    <tr>\n",
              "      <th>9720</th>\n",
              "      <td>The Irish Anatomist: A Study of Flann O'Brien</td>\n",
              "      <td>Keith Donohue</td>\n",
              "      <td>5.0</td>\n",
              "      <td>eng</td>\n",
              "      <td>222</td>\n",
              "      <td>1</td>\n",
              "      <td>0</td>\n",
              "      <td>7/25/2003</td>\n",
              "      <td>Academica Press</td>\n",
              "    </tr>\n",
              "    <tr>\n",
              "      <th>...</th>\n",
              "      <td>...</td>\n",
              "      <td>...</td>\n",
              "      <td>...</td>\n",
              "      <td>...</td>\n",
              "      <td>...</td>\n",
              "      <td>...</td>\n",
              "      <td>...</td>\n",
              "      <td>...</td>\n",
              "      <td>...</td>\n",
              "    </tr>\n",
              "    <tr>\n",
              "      <th>6877</th>\n",
              "      <td>I'll Be Home Before Midnight and I Won't Get P...</td>\n",
              "      <td>Anthony E. Wolf</td>\n",
              "      <td>0.0</td>\n",
              "      <td>eng</td>\n",
              "      <td>288</td>\n",
              "      <td>0</td>\n",
              "      <td>0</td>\n",
              "      <td>5/12/1988</td>\n",
              "      <td>Knopf Doubleday Publishing Group</td>\n",
              "    </tr>\n",
              "    <tr>\n",
              "      <th>3492</th>\n",
              "      <td>Brodie's notes on Aldous Huxley's brave new world</td>\n",
              "      <td>Graham Handley</td>\n",
              "      <td>0.0</td>\n",
              "      <td>eng</td>\n",
              "      <td>71</td>\n",
              "      <td>0</td>\n",
              "      <td>0</td>\n",
              "      <td>8/20/1992</td>\n",
              "      <td>Macmillan</td>\n",
              "    </tr>\n",
              "    <tr>\n",
              "      <th>2533</th>\n",
              "      <td>Insights: Talks On The Nature Of Existence</td>\n",
              "      <td>Frederick P. Lenz</td>\n",
              "      <td>0.0</td>\n",
              "      <td>eng</td>\n",
              "      <td>304</td>\n",
              "      <td>0</td>\n",
              "      <td>0</td>\n",
              "      <td>1/1/2003</td>\n",
              "      <td>Frederick P. Lenz Foundation for American Budd...</td>\n",
              "    </tr>\n",
              "    <tr>\n",
              "      <th>2532</th>\n",
              "      <td>How To Meditate: An Anthology Of Talks On Medi...</td>\n",
              "      <td>Frederick P. Lenz</td>\n",
              "      <td>0.0</td>\n",
              "      <td>eng</td>\n",
              "      <td>228</td>\n",
              "      <td>0</td>\n",
              "      <td>0</td>\n",
              "      <td>1/1/2004</td>\n",
              "      <td>Frederick P. Lenz Foundation for American Budd...</td>\n",
              "    </tr>\n",
              "    <tr>\n",
              "      <th>10497</th>\n",
              "      <td>The Fantastic Vampire: Studies in the Children...</td>\n",
              "      <td>James Craig Holte</td>\n",
              "      <td>0.0</td>\n",
              "      <td>eng</td>\n",
              "      <td>176</td>\n",
              "      <td>0</td>\n",
              "      <td>0</td>\n",
              "      <td>3/30/2002</td>\n",
              "      <td>Greenwood Press</td>\n",
              "    </tr>\n",
              "  </tbody>\n",
              "</table>\n",
              "<p>11123 rows × 9 columns</p>\n",
              "</div>"
            ],
            "text/plain": [
              "                                                   Title  ...                                          Publisher\n",
              "624    Comoediae 1: Acharenses/Equites/Nubes/Vespae/P...  ...                       Oxford University Press  USA\n",
              "9893   His Princess Devotional: A Royal Encounter Wit...  ...                                          Multnomah\n",
              "4788   The Diamond Color Meditation: Color Pathway to...  ...                              Square One Publishers\n",
              "9324                  Tyrannosaurus Wrecks (Stanley  #1)  ...                                       Disney Press\n",
              "9720       The Irish Anatomist: A Study of Flann O'Brien  ...                                    Academica Press\n",
              "...                                                  ...  ...                                                ...\n",
              "6877   I'll Be Home Before Midnight and I Won't Get P...  ...                   Knopf Doubleday Publishing Group\n",
              "3492   Brodie's notes on Aldous Huxley's brave new world  ...                                          Macmillan\n",
              "2533          Insights: Talks On The Nature Of Existence  ...  Frederick P. Lenz Foundation for American Budd...\n",
              "2532   How To Meditate: An Anthology Of Talks On Medi...  ...  Frederick P. Lenz Foundation for American Budd...\n",
              "10497  The Fantastic Vampire: Studies in the Children...  ...                                    Greenwood Press\n",
              "\n",
              "[11123 rows x 9 columns]"
            ]
          },
          "metadata": {
            "tags": []
          },
          "execution_count": 75
        }
      ]
    },
    {
      "cell_type": "code",
      "metadata": {
        "colab": {
          "base_uri": "https://localhost:8080/"
        },
        "id": "-HTqW3qjhnCu",
        "outputId": "3c9ed743-cbd3-415f-dcae-bf0921705191"
      },
      "source": [
        "books.info()"
      ],
      "execution_count": 76,
      "outputs": [
        {
          "output_type": "stream",
          "text": [
            "<class 'pandas.core.frame.DataFrame'>\n",
            "RangeIndex: 11123 entries, 0 to 11122\n",
            "Data columns (total 9 columns):\n",
            " #   Column              Non-Null Count  Dtype  \n",
            "---  ------              --------------  -----  \n",
            " 0   Title               11123 non-null  object \n",
            " 1   Authors             11123 non-null  object \n",
            " 2   Average_Rating      11123 non-null  float64\n",
            " 3   Language_Code       11123 non-null  object \n",
            " 4   Num_Pages           11123 non-null  int64  \n",
            " 5   Ratings_Count       11123 non-null  int64  \n",
            " 6   Text_Reviews_Count  11123 non-null  int64  \n",
            " 7   Publication_Date    11123 non-null  object \n",
            " 8   Publisher           11123 non-null  object \n",
            "dtypes: float64(1), int64(3), object(5)\n",
            "memory usage: 782.2+ KB\n"
          ],
          "name": "stdout"
        }
      ]
    },
    {
      "cell_type": "code",
      "metadata": {
        "colab": {
          "base_uri": "https://localhost:8080/",
          "height": 847
        },
        "id": "VJzUuVnxhrhA",
        "outputId": "b08f3740-51a5-4f1e-e43c-251083b07f8d"
      },
      "source": [
        "top_rated_books = books.sort_values(by=['Average_Rating',], ascending=False)\r\n",
        "top_rated_books"
      ],
      "execution_count": 77,
      "outputs": [
        {
          "output_type": "execute_result",
          "data": {
            "text/html": [
              "<div>\n",
              "<style scoped>\n",
              "    .dataframe tbody tr th:only-of-type {\n",
              "        vertical-align: middle;\n",
              "    }\n",
              "\n",
              "    .dataframe tbody tr th {\n",
              "        vertical-align: top;\n",
              "    }\n",
              "\n",
              "    .dataframe thead th {\n",
              "        text-align: right;\n",
              "    }\n",
              "</style>\n",
              "<table border=\"1\" class=\"dataframe\">\n",
              "  <thead>\n",
              "    <tr style=\"text-align: right;\">\n",
              "      <th></th>\n",
              "      <th>Title</th>\n",
              "      <th>Authors</th>\n",
              "      <th>Average_Rating</th>\n",
              "      <th>Language_Code</th>\n",
              "      <th>Num_Pages</th>\n",
              "      <th>Ratings_Count</th>\n",
              "      <th>Text_Reviews_Count</th>\n",
              "      <th>Publication_Date</th>\n",
              "      <th>Publisher</th>\n",
              "    </tr>\n",
              "  </thead>\n",
              "  <tbody>\n",
              "    <tr>\n",
              "      <th>624</th>\n",
              "      <td>Comoediae 1: Acharenses/Equites/Nubes/Vespae/P...</td>\n",
              "      <td>Aristophanes/F.W. Hall/W.M. Geldart</td>\n",
              "      <td>5.0</td>\n",
              "      <td>grc</td>\n",
              "      <td>364</td>\n",
              "      <td>0</td>\n",
              "      <td>0</td>\n",
              "      <td>2/22/1922</td>\n",
              "      <td>Oxford University Press  USA</td>\n",
              "    </tr>\n",
              "    <tr>\n",
              "      <th>9893</th>\n",
              "      <td>His Princess Devotional: A Royal Encounter Wit...</td>\n",
              "      <td>Sheri Rose Shepherd</td>\n",
              "      <td>5.0</td>\n",
              "      <td>eng</td>\n",
              "      <td>240</td>\n",
              "      <td>2</td>\n",
              "      <td>0</td>\n",
              "      <td>10/16/2007</td>\n",
              "      <td>Multnomah</td>\n",
              "    </tr>\n",
              "    <tr>\n",
              "      <th>4788</th>\n",
              "      <td>The Diamond Color Meditation: Color Pathway to...</td>\n",
              "      <td>John  Diamond</td>\n",
              "      <td>5.0</td>\n",
              "      <td>eng</td>\n",
              "      <td>74</td>\n",
              "      <td>5</td>\n",
              "      <td>3</td>\n",
              "      <td>2/1/2006</td>\n",
              "      <td>Square One Publishers</td>\n",
              "    </tr>\n",
              "    <tr>\n",
              "      <th>9324</th>\n",
              "      <td>Tyrannosaurus Wrecks (Stanley  #1)</td>\n",
              "      <td>Laura Driscoll/Alisa Klayman-Grodsky/Eric     ...</td>\n",
              "      <td>5.0</td>\n",
              "      <td>eng</td>\n",
              "      <td>24</td>\n",
              "      <td>2</td>\n",
              "      <td>1</td>\n",
              "      <td>2/1/2003</td>\n",
              "      <td>Disney Press</td>\n",
              "    </tr>\n",
              "    <tr>\n",
              "      <th>9720</th>\n",
              "      <td>The Irish Anatomist: A Study of Flann O'Brien</td>\n",
              "      <td>Keith Donohue</td>\n",
              "      <td>5.0</td>\n",
              "      <td>eng</td>\n",
              "      <td>222</td>\n",
              "      <td>1</td>\n",
              "      <td>0</td>\n",
              "      <td>7/25/2003</td>\n",
              "      <td>Academica Press</td>\n",
              "    </tr>\n",
              "    <tr>\n",
              "      <th>...</th>\n",
              "      <td>...</td>\n",
              "      <td>...</td>\n",
              "      <td>...</td>\n",
              "      <td>...</td>\n",
              "      <td>...</td>\n",
              "      <td>...</td>\n",
              "      <td>...</td>\n",
              "      <td>...</td>\n",
              "      <td>...</td>\n",
              "    </tr>\n",
              "    <tr>\n",
              "      <th>6877</th>\n",
              "      <td>I'll Be Home Before Midnight and I Won't Get P...</td>\n",
              "      <td>Anthony E. Wolf</td>\n",
              "      <td>0.0</td>\n",
              "      <td>eng</td>\n",
              "      <td>288</td>\n",
              "      <td>0</td>\n",
              "      <td>0</td>\n",
              "      <td>5/12/1988</td>\n",
              "      <td>Knopf Doubleday Publishing Group</td>\n",
              "    </tr>\n",
              "    <tr>\n",
              "      <th>3492</th>\n",
              "      <td>Brodie's notes on Aldous Huxley's brave new world</td>\n",
              "      <td>Graham Handley</td>\n",
              "      <td>0.0</td>\n",
              "      <td>eng</td>\n",
              "      <td>71</td>\n",
              "      <td>0</td>\n",
              "      <td>0</td>\n",
              "      <td>8/20/1992</td>\n",
              "      <td>Macmillan</td>\n",
              "    </tr>\n",
              "    <tr>\n",
              "      <th>2533</th>\n",
              "      <td>Insights: Talks On The Nature Of Existence</td>\n",
              "      <td>Frederick P. Lenz</td>\n",
              "      <td>0.0</td>\n",
              "      <td>eng</td>\n",
              "      <td>304</td>\n",
              "      <td>0</td>\n",
              "      <td>0</td>\n",
              "      <td>1/1/2003</td>\n",
              "      <td>Frederick P. Lenz Foundation for American Budd...</td>\n",
              "    </tr>\n",
              "    <tr>\n",
              "      <th>2532</th>\n",
              "      <td>How To Meditate: An Anthology Of Talks On Medi...</td>\n",
              "      <td>Frederick P. Lenz</td>\n",
              "      <td>0.0</td>\n",
              "      <td>eng</td>\n",
              "      <td>228</td>\n",
              "      <td>0</td>\n",
              "      <td>0</td>\n",
              "      <td>1/1/2004</td>\n",
              "      <td>Frederick P. Lenz Foundation for American Budd...</td>\n",
              "    </tr>\n",
              "    <tr>\n",
              "      <th>10497</th>\n",
              "      <td>The Fantastic Vampire: Studies in the Children...</td>\n",
              "      <td>James Craig Holte</td>\n",
              "      <td>0.0</td>\n",
              "      <td>eng</td>\n",
              "      <td>176</td>\n",
              "      <td>0</td>\n",
              "      <td>0</td>\n",
              "      <td>3/30/2002</td>\n",
              "      <td>Greenwood Press</td>\n",
              "    </tr>\n",
              "  </tbody>\n",
              "</table>\n",
              "<p>11123 rows × 9 columns</p>\n",
              "</div>"
            ],
            "text/plain": [
              "                                                   Title  ...                                          Publisher\n",
              "624    Comoediae 1: Acharenses/Equites/Nubes/Vespae/P...  ...                       Oxford University Press  USA\n",
              "9893   His Princess Devotional: A Royal Encounter Wit...  ...                                          Multnomah\n",
              "4788   The Diamond Color Meditation: Color Pathway to...  ...                              Square One Publishers\n",
              "9324                  Tyrannosaurus Wrecks (Stanley  #1)  ...                                       Disney Press\n",
              "9720       The Irish Anatomist: A Study of Flann O'Brien  ...                                    Academica Press\n",
              "...                                                  ...  ...                                                ...\n",
              "6877   I'll Be Home Before Midnight and I Won't Get P...  ...                   Knopf Doubleday Publishing Group\n",
              "3492   Brodie's notes on Aldous Huxley's brave new world  ...                                          Macmillan\n",
              "2533          Insights: Talks On The Nature Of Existence  ...  Frederick P. Lenz Foundation for American Budd...\n",
              "2532   How To Meditate: An Anthology Of Talks On Medi...  ...  Frederick P. Lenz Foundation for American Budd...\n",
              "10497  The Fantastic Vampire: Studies in the Children...  ...                                    Greenwood Press\n",
              "\n",
              "[11123 rows x 9 columns]"
            ]
          },
          "metadata": {
            "tags": []
          },
          "execution_count": 77
        }
      ]
    },
    {
      "cell_type": "code",
      "metadata": {
        "id": "mO2vjD6EiEpe"
      },
      "source": [
        "top_rated_books = [x for x in books['Ratings_Count']>100 ]"
      ],
      "execution_count": 78,
      "outputs": []
    },
    {
      "cell_type": "code",
      "metadata": {
        "id": "gcFX8UZ1iJqw"
      },
      "source": [
        "top_rated_books = books[top_rated_books]"
      ],
      "execution_count": 79,
      "outputs": []
    },
    {
      "cell_type": "code",
      "metadata": {
        "id": "gH0NbpTBiMtA"
      },
      "source": [
        "top_rated_books = top_rated_books.sort_values(by=['Average_Rating',], ascending=False)"
      ],
      "execution_count": 80,
      "outputs": []
    },
    {
      "cell_type": "code",
      "metadata": {
        "colab": {
          "base_uri": "https://localhost:8080/"
        },
        "id": "fenJoTbUiQKs",
        "outputId": "819a370c-2c55-4413-a954-7b14de8bbf34"
      },
      "source": [
        "top_rated_books = top_rated_books[:100]\r\n",
        "top_rated_books\r\n",
        "top_rated_books.describe()\r\n",
        "top_rated_authors = top_rated_books[\"Authors\"].value_counts()[:20]\r\n",
        "top_rated_authors.head()\r\n",
        "top_num_pages = top_rated_books[\"Num_Pages\"]\r\n",
        "top_num_pages\r\n",
        "top_num_pages.mean()\r\n",
        "most_popular_books = books.sort_values(by=['Ratings_Count','Text_Reviews_Count','Num_Pages'], ascending=False)[:20]\r\n",
        "most_popular_books\r\n",
        "most_popular_hundred = books.sort_values(by=['Ratings_Count','Text_Reviews_Count'], ascending=False)[:100]\r\n",
        "most_popular_authors = most_popular_hundred[\"Authors\"].value_counts()[:20]\r\n",
        "most_popular_authors\r\n",
        "\r\n",
        "popular_num_pages = most_popular_hundred[\"Num_Pages\"]\r\n",
        "popular_num_pages\r\n"
      ],
      "execution_count": 85,
      "outputs": [
        {
          "output_type": "execute_result",
          "data": {
            "text/plain": [
              "10336    501\n",
              "1697     366\n",
              "1462     277\n",
              "307      736\n",
              "3        435\n",
              "        ... \n",
              "7810     176\n",
              "4156     496\n",
              "4076     370\n",
              "8448     400\n",
              "5082     311\n",
              "Name: Num_Pages, Length: 100, dtype: int64"
            ]
          },
          "metadata": {
            "tags": []
          },
          "execution_count": 85
        }
      ]
    },
    {
      "cell_type": "code",
      "metadata": {
        "id": "3S1_4PGsi_6K"
      },
      "source": [
        ""
      ],
      "execution_count": null,
      "outputs": []
    },
    {
      "cell_type": "markdown",
      "metadata": {
        "id": "sAwHgcMpYDmi"
      },
      "source": [
        "**Find the mean, median, standard deviation**"
      ]
    },
    {
      "cell_type": "code",
      "metadata": {
        "id": "uAz_XvmdYPDn",
        "colab": {
          "base_uri": "https://localhost:8080/"
        },
        "outputId": "ea073a7d-f0b4-44f5-efa6-223edf5f130d"
      },
      "source": [
        "popular_num_pages.mean()"
      ],
      "execution_count": 86,
      "outputs": [
        {
          "output_type": "execute_result",
          "data": {
            "text/plain": [
              "377.59"
            ]
          },
          "metadata": {
            "tags": []
          },
          "execution_count": 86
        }
      ]
    },
    {
      "cell_type": "code",
      "metadata": {
        "colab": {
          "base_uri": "https://localhost:8080/",
          "height": 204
        },
        "id": "ofOW3oqQjKKX",
        "outputId": "5c8635f5-461f-4696-e0ee-c1633584137a"
      },
      "source": [
        "most_popular_books = most_popular_books[['Title','Authors']]\r\n",
        "most_popular_books.head(5)"
      ],
      "execution_count": 88,
      "outputs": [
        {
          "output_type": "execute_result",
          "data": {
            "text/html": [
              "<div>\n",
              "<style scoped>\n",
              "    .dataframe tbody tr th:only-of-type {\n",
              "        vertical-align: middle;\n",
              "    }\n",
              "\n",
              "    .dataframe tbody tr th {\n",
              "        vertical-align: top;\n",
              "    }\n",
              "\n",
              "    .dataframe thead th {\n",
              "        text-align: right;\n",
              "    }\n",
              "</style>\n",
              "<table border=\"1\" class=\"dataframe\">\n",
              "  <thead>\n",
              "    <tr style=\"text-align: right;\">\n",
              "      <th></th>\n",
              "      <th>Title</th>\n",
              "      <th>Authors</th>\n",
              "    </tr>\n",
              "  </thead>\n",
              "  <tbody>\n",
              "    <tr>\n",
              "      <th>10336</th>\n",
              "      <td>Twilight (Twilight  #1)</td>\n",
              "      <td>Stephenie Meyer</td>\n",
              "    </tr>\n",
              "    <tr>\n",
              "      <th>1697</th>\n",
              "      <td>The Hobbit  or There and Back Again</td>\n",
              "      <td>J.R.R. Tolkien</td>\n",
              "    </tr>\n",
              "    <tr>\n",
              "      <th>1462</th>\n",
              "      <td>The Catcher in the Rye</td>\n",
              "      <td>J.D. Salinger</td>\n",
              "    </tr>\n",
              "    <tr>\n",
              "      <th>307</th>\n",
              "      <td>Angels &amp; Demons (Robert Langdon  #1)</td>\n",
              "      <td>Dan Brown</td>\n",
              "    </tr>\n",
              "    <tr>\n",
              "      <th>3</th>\n",
              "      <td>Harry Potter and the Prisoner of Azkaban (Harr...</td>\n",
              "      <td>J.K. Rowling/Mary GrandPré</td>\n",
              "    </tr>\n",
              "  </tbody>\n",
              "</table>\n",
              "</div>"
            ],
            "text/plain": [
              "                                                   Title                     Authors\n",
              "10336                            Twilight (Twilight  #1)             Stephenie Meyer\n",
              "1697                 The Hobbit  or There and Back Again              J.R.R. Tolkien\n",
              "1462                              The Catcher in the Rye               J.D. Salinger\n",
              "307                 Angels & Demons (Robert Langdon  #1)                   Dan Brown\n",
              "3      Harry Potter and the Prisoner of Azkaban (Harr...  J.K. Rowling/Mary GrandPré"
            ]
          },
          "metadata": {
            "tags": []
          },
          "execution_count": 88
        }
      ]
    },
    {
      "cell_type": "code",
      "metadata": {
        "id": "sTzF6tMnjRRb"
      },
      "source": [
        "publishers_most_books = books[\"Publisher\"].value_counts()"
      ],
      "execution_count": 89,
      "outputs": []
    },
    {
      "cell_type": "code",
      "metadata": {
        "colab": {
          "base_uri": "https://localhost:8080/"
        },
        "id": "_yIPOEr3jWSn",
        "outputId": "64fcf50a-af80-46fc-f1e2-56a48ab279d8"
      },
      "source": [
        "publishers_most_books.head(20)"
      ],
      "execution_count": 90,
      "outputs": [
        {
          "output_type": "execute_result",
          "data": {
            "text/plain": [
              "Vintage                         318\n",
              "Penguin Books                   261\n",
              "Penguin Classics                184\n",
              "Mariner Books                   150\n",
              "Ballantine Books                144\n",
              "Harper Perennial                112\n",
              "HarperCollins                   112\n",
              "Pocket Books                    111\n",
              "Bantam                          110\n",
              "VIZ Media LLC                    88\n",
              "Berkley                          86\n",
              "Dover Publications               85\n",
              "Modern Library                   82\n",
              "Del Rey                          80\n",
              "Tor Books                        76\n",
              "Grand Central Publishing         76\n",
              "Oxford University Press  USA     75\n",
              "Scribner                         73\n",
              "Oxford University Press          73\n",
              "W. W. Norton  Company            68\n",
              "Name: Publisher, dtype: int64"
            ]
          },
          "metadata": {
            "tags": []
          },
          "execution_count": 90
        }
      ]
    },
    {
      "cell_type": "markdown",
      "metadata": {
        "id": "ih-gH_lKY7io"
      },
      "source": [
        "**Create a normalized form whose values range exactly between 0 and 1 so that the minimum has value 0 and maximum has value 1.**"
      ]
    },
    {
      "cell_type": "code",
      "metadata": {
        "id": "9_RTGZHwY8Ne",
        "colab": {
          "base_uri": "https://localhost:8080/"
        },
        "outputId": "80d79f5a-4c69-4f30-a45e-40ab7d83fe24"
      },
      "source": [
        "publishers_most_books.max()\r\n"
      ],
      "execution_count": 91,
      "outputs": [
        {
          "output_type": "execute_result",
          "data": {
            "text/plain": [
              "318"
            ]
          },
          "metadata": {
            "tags": []
          },
          "execution_count": 91
        }
      ]
    },
    {
      "cell_type": "code",
      "metadata": {
        "colab": {
          "base_uri": "https://localhost:8080/"
        },
        "id": "vm4faMeYjxho",
        "outputId": "3cca6f86-5edc-44ec-b858-aff4ad1ed989"
      },
      "source": [
        "publishers_most_books.min()"
      ],
      "execution_count": 97,
      "outputs": [
        {
          "output_type": "execute_result",
          "data": {
            "text/plain": [
              "1"
            ]
          },
          "metadata": {
            "tags": []
          },
          "execution_count": 97
        }
      ]
    },
    {
      "cell_type": "code",
      "metadata": {
        "colab": {
          "base_uri": "https://localhost:8080/"
        },
        "id": "hR_biGK0jdn2",
        "outputId": "6f075e0b-4f51-43bf-c6f3-3dccc6a441ce"
      },
      "source": [
        "author_most_books = books[\"Authors\"].value_counts()\r\n",
        "author_most_books.max()\r\n"
      ],
      "execution_count": 95,
      "outputs": [
        {
          "output_type": "execute_result",
          "data": {
            "text/plain": [
              "40"
            ]
          },
          "metadata": {
            "tags": []
          },
          "execution_count": 95
        }
      ]
    },
    {
      "cell_type": "code",
      "metadata": {
        "colab": {
          "base_uri": "https://localhost:8080/"
        },
        "id": "6IC4FW-sjuQe",
        "outputId": "c10ad39c-56a7-4375-b0a4-409db25cef0a"
      },
      "source": [
        "author_most_books.min()"
      ],
      "execution_count": 96,
      "outputs": [
        {
          "output_type": "execute_result",
          "data": {
            "text/plain": [
              "1"
            ]
          },
          "metadata": {
            "tags": []
          },
          "execution_count": 96
        }
      ]
    },
    {
      "cell_type": "code",
      "metadata": {
        "colab": {
          "base_uri": "https://localhost:8080/"
        },
        "id": "GgJXjHttj8-9",
        "outputId": "9ca31e70-115a-4caf-a9fb-b34c5b9379a3"
      },
      "source": [
        "round(publishers_most_books.mean(),2)"
      ],
      "execution_count": 98,
      "outputs": [
        {
          "output_type": "execute_result",
          "data": {
            "text/plain": [
              "4.86"
            ]
          },
          "metadata": {
            "tags": []
          },
          "execution_count": 98
        }
      ]
    },
    {
      "cell_type": "code",
      "metadata": {
        "colab": {
          "base_uri": "https://localhost:8080/"
        },
        "id": "9LZvrzH1kBFS",
        "outputId": "d659b9c7-6693-427f-a21b-e05a10f795df"
      },
      "source": [
        "round(author_most_books.mean(),2)"
      ],
      "execution_count": 99,
      "outputs": [
        {
          "output_type": "execute_result",
          "data": {
            "text/plain": [
              "1.68"
            ]
          },
          "metadata": {
            "tags": []
          },
          "execution_count": 99
        }
      ]
    },
    {
      "cell_type": "markdown",
      "metadata": {
        "id": "4YXuwSeWZBnd"
      },
      "source": [
        "**Compute the softmax score**"
      ]
    },
    {
      "cell_type": "code",
      "metadata": {
        "id": "dFDbgmx7ZOxT"
      },
      "source": [
        "Books.csv[\"sat_verbal\"].max()\r\n"
      ],
      "execution_count": null,
      "outputs": []
    },
    {
      "cell_type": "markdown",
      "metadata": {
        "id": "KbLSXvFKZPRL"
      },
      "source": [
        "**Find the number and position of missing values**"
      ]
    },
    {
      "cell_type": "code",
      "metadata": {
        "id": "Z0Emnc7AZSwe",
        "colab": {
          "base_uri": "https://localhost:8080/",
          "height": 129
        },
        "outputId": "86cf568f-4376-4d7b-8e2e-23a944fc0e61"
      },
      "source": [
        "positions=which(is.na(Books))\r\n"
      ],
      "execution_count": null,
      "outputs": [
        {
          "output_type": "error",
          "ename": "SyntaxError",
          "evalue": "ignored",
          "traceback": [
            "\u001b[0;36m  File \u001b[0;32m\"<ipython-input-1-5f073c3da181>\"\u001b[0;36m, line \u001b[0;32m1\u001b[0m\n\u001b[0;31m    positions=which(is.na(Books))\u001b[0m\n\u001b[0m                     ^\u001b[0m\n\u001b[0;31mSyntaxError\u001b[0m\u001b[0;31m:\u001b[0m invalid syntax\n"
          ]
        }
      ]
    },
    {
      "cell_type": "markdown",
      "metadata": {
        "id": "KoO3sXk2ZTDT"
      },
      "source": [
        "** italicized textSelect the rows that does not have any value**"
      ]
    },
    {
      "cell_type": "code",
      "metadata": {
        "id": "6vcxbMBOZbu1"
      },
      "source": [
        "SELECT *\r\n",
        "FROM table\r\n",
        "WHERE colume_name = some_value"
      ],
      "execution_count": null,
      "outputs": []
    },
    {
      "cell_type": "markdown",
      "metadata": {
        "id": "phWKGGxRZcK2"
      },
      "source": [
        "** **bold text**Find the unique values and the count of unique values**"
      ]
    },
    {
      "cell_type": "code",
      "metadata": {
        "id": "83lFnHwIZn8J",
        "colab": {
          "base_uri": "https://localhost:8080/",
          "height": 180
        },
        "outputId": "4e07470b-4718-4ccb-9266-631ff919ff7b"
      },
      "source": [
        "df = df.ID.groupby([df.books.str.strip(\"'\")]).nunique()\r\n",
        "print (df)"
      ],
      "execution_count": null,
      "outputs": [
        {
          "output_type": "error",
          "ename": "NameError",
          "evalue": "ignored",
          "traceback": [
            "\u001b[0;31m---------------------------------------------------------------------------\u001b[0m",
            "\u001b[0;31mNameError\u001b[0m                                 Traceback (most recent call last)",
            "\u001b[0;32m<ipython-input-2-61e46b332e12>\u001b[0m in \u001b[0;36m<module>\u001b[0;34m()\u001b[0m\n\u001b[0;32m----> 1\u001b[0;31m \u001b[0mdf\u001b[0m \u001b[0;34m=\u001b[0m \u001b[0mdf\u001b[0m\u001b[0;34m.\u001b[0m\u001b[0mID\u001b[0m\u001b[0;34m.\u001b[0m\u001b[0mgroupby\u001b[0m\u001b[0;34m(\u001b[0m\u001b[0;34m[\u001b[0m\u001b[0mdf\u001b[0m\u001b[0;34m.\u001b[0m\u001b[0mbooks\u001b[0m\u001b[0;34m.\u001b[0m\u001b[0mstr\u001b[0m\u001b[0;34m.\u001b[0m\u001b[0mstrip\u001b[0m\u001b[0;34m(\u001b[0m\u001b[0;34m\"'\"\u001b[0m\u001b[0;34m)\u001b[0m\u001b[0;34m]\u001b[0m\u001b[0;34m)\u001b[0m\u001b[0;34m.\u001b[0m\u001b[0mnunique\u001b[0m\u001b[0;34m(\u001b[0m\u001b[0;34m)\u001b[0m\u001b[0;34m\u001b[0m\u001b[0;34m\u001b[0m\u001b[0m\n\u001b[0m\u001b[1;32m      2\u001b[0m \u001b[0mprint\u001b[0m \u001b[0;34m(\u001b[0m\u001b[0mdf\u001b[0m\u001b[0;34m)\u001b[0m\u001b[0;34m\u001b[0m\u001b[0;34m\u001b[0m\u001b[0m\n",
            "\u001b[0;31mNameError\u001b[0m: name 'df' is not defined"
          ]
        }
      ]
    },
    {
      "cell_type": "markdown",
      "metadata": {
        "id": "pBSiwENgUXPG"
      },
      "source": [
        ""
      ]
    },
    {
      "cell_type": "markdown",
      "metadata": {
        "id": "Vxth-0O7ZogN"
      },
      "source": [
        "**Find the most frequent value of dataset**"
      ]
    },
    {
      "cell_type": "code",
      "metadata": {
        "id": "R2TSUIl2ZzAF"
      },
      "source": [
        "dataframe['books'].value_counts().idxmax()\r\n"
      ],
      "execution_count": null,
      "outputs": []
    },
    {
      "cell_type": "markdown",
      "metadata": {
        "id": "fPQjFHNaiO80"
      },
      "source": [
        "> Write the structure  of your dataset here \r\n",
        "\r\n",
        "\r\n"
      ]
    },
    {
      "cell_type": "markdown",
      "metadata": {
        "id": "IcrBWTGeii2C"
      },
      "source": [
        "----"
      ]
    },
    {
      "cell_type": "markdown",
      "metadata": {
        "id": "wJY9c-bDYPtI"
      },
      "source": [
        "# Type of data analysis\r\n",
        "## Univariate\r\n",
        "> is a term commonly used in statistics to describe a type of data which consists of observations on only a single characteristic or attribute.\r\n",
        "\r\n",
        ">Univariate analysis is the simplest form of analyzing data. “Uni” means “one”, so in other words your data has only one variable.\r\n",
        "\r\n",
        "## Bivariate\r\n",
        ">In statistics, bivariate data is data on each of two variables, where each value of one of the variables is paired with a value of the other variable. Typically it would be of interest to investigate the possible association between the two variables.\r\n",
        "\r\n",
        ">Bivariate analysis is one of the simplest forms of quantitative (statistical) analysis. It involves the analysis of two variables (often denoted as X, Y), for the purpose of determining the empirical relationship between them.\r\n",
        "\r\n",
        "## Multivariate\r\n",
        ">Multivariate statistics is a subdivision of statistics encompassing the simultaneous observation and analysis of more than one outcome variable. The application of multivariate statistics is multivariate analysis.\r\n",
        "\r\n",
        ">Multivariate analysis is based on the principles of multivariate statistics, which involves observation and analysis of more than one statistical outcome variable at a time.\r\n",
        "\r\n",
        "![picture](https://drive.google.com/uc?export=view&id=1ors5QRIf6ISa-aidarRJ6A0-ueY31hk9)"
      ]
    },
    {
      "cell_type": "markdown",
      "metadata": {
        "id": "ZwTp__cDim-H"
      },
      "source": [
        "------"
      ]
    },
    {
      "cell_type": "markdown",
      "metadata": {
        "id": "cWOtrSAzXzzU"
      },
      "source": [
        "# Univariate\r\n",
        "> Make at least one chart\r\n",
        ",write your observation under every chart"
      ]
    },
    {
      "cell_type": "code",
      "metadata": {
        "id": "zzdL3jIIfG9S"
      },
      "source": [
        ""
      ],
      "execution_count": null,
      "outputs": []
    },
    {
      "cell_type": "markdown",
      "metadata": {
        "id": "rOz3SP8visz3"
      },
      "source": [
        "------"
      ]
    },
    {
      "cell_type": "markdown",
      "metadata": {
        "id": "AL8zKDe2fkIS"
      },
      "source": [
        "# Bivariate\r\n",
        "> Make at least one chart\r\n",
        ",write your observation under every chart"
      ]
    },
    {
      "cell_type": "code",
      "metadata": {
        "id": "zM00AGX2frJf"
      },
      "source": [
        ""
      ],
      "execution_count": null,
      "outputs": []
    },
    {
      "cell_type": "markdown",
      "metadata": {
        "id": "EzQ9jKZoiwRo"
      },
      "source": [
        "----\r\n"
      ]
    },
    {
      "cell_type": "markdown",
      "metadata": {
        "id": "1yDGR2Rbft1y"
      },
      "source": [
        "# Multivariate\r\n",
        "> Make at least one chart\r\n",
        ",write your observation under every chart"
      ]
    },
    {
      "cell_type": "code",
      "metadata": {
        "id": "hwl7xJZOf2Jn"
      },
      "source": [
        ""
      ],
      "execution_count": null,
      "outputs": []
    },
    {
      "cell_type": "markdown",
      "metadata": {
        "id": "VcLDlOtKiy1Z"
      },
      "source": [
        "----"
      ]
    },
    {
      "cell_type": "markdown",
      "metadata": {
        "id": "3vqJDLTJgzYX"
      },
      "source": [
        "# SUMMERY\r\n",
        " \r\n",
        "\r\n"
      ]
    },
    {
      "cell_type": "markdown",
      "metadata": {
        "id": "KZzmylZGhbfm"
      },
      "source": [
        ">here write your summery about dataset"
      ]
    },
    {
      "cell_type": "markdown",
      "metadata": {
        "id": "VhcFXGW8hVcf"
      },
      "source": [
        ">List at least three insights.\r\n",
        "\r\n",
        "1. \r\n",
        "1. \r\n",
        "1. \r\n",
        "\r\n",
        "\r\n"
      ]
    },
    {
      "cell_type": "markdown",
      "metadata": {
        "id": "t7pG46rTkPPF"
      },
      "source": [
        "# Useful references"
      ]
    },
    {
      "cell_type": "markdown",
      "metadata": {
        "id": "tAmRUazckcnL"
      },
      "source": [
        "* [Python Guide](https://docs.python.org/3/tutorial/index.html)  \r\n",
        "[Python Guide](https://www.w3schools.com/python/)\r\n",
        "* [Data Cleaning Guide](https://towardsdatascience.com/data-cleaning-in-python-the-ultimate-guide-2020-c63b88bf0a0d)\r\n",
        "* [Pandas Guide](https://pandas.pydata.org/docs/user_guide/index.html)\r\n",
        "* [Matplotlib Examples](https://matplotlib.org/gallery/index.html)\r\n",
        "\r\n",
        "* [Seaborn Examples](https://seaborn.pydata.org/examples/index.html)\r\n",
        "\r\n"
      ]
    }
  ]
}